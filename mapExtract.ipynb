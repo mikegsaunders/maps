{
 "cells": [
  {
   "cell_type": "markdown",
   "metadata": {},
   "source": [
    "Click the play button in the cell below to load all tools we'll need. You'll be asked for your list of MMSIDs."
   ]
  },
  {
   "cell_type": "code",
   "execution_count": 19,
   "metadata": {},
   "outputs": [
    {
     "name": "stdout",
     "output_type": "stream",
     "text": [
      "Would you like to use the Sandbox or Production environment?\n"
     ]
    },
    {
     "data": {
      "application/vnd.jupyter.widget-view+json": {
       "model_id": "72c41caf3f7648cfa6282e17ee14750d",
       "version_major": 2,
       "version_minor": 0
      },
      "text/plain": [
       "HBox(children=(Button(description='Sandbox', style=ButtonStyle(), tooltip='Sandbox'), Button(description='Prod…"
      ]
     },
     "metadata": {},
     "output_type": "display_data"
    },
    {
     "data": {
      "application/vnd.jupyter.widget-view+json": {
       "model_id": "01d13217f077456e922a2950b5450ed5",
       "version_major": 2,
       "version_minor": 0
      },
      "text/plain": [
       "VBox(children=(Output(),))"
      ]
     },
     "metadata": {},
     "output_type": "display_data"
    }
   ],
   "source": [
    "import os\n",
    "from IPython.display import display\n",
    "import ipywidgets as widgets\n",
    "\n",
    "def clicked_sand(arg):\n",
    "    apiKey = os.environ['API_KEY_SAND']\n",
    "    with out:\n",
    "        print('\\rusing Sandbox data   ', end='')\n",
    "\n",
    "def clicked_prod(arg):\n",
    "    apiKey = os.environ['API_KEY_PROD']\n",
    "    with out:\n",
    "        print('\\rusing Production data', end='')\n",
    "\n",
    "print('Would you like to use the Sandbox or Production environment?')\n",
    "button_sand = widgets.Button(description = 'Sandbox', tooltip='Sandbox')   \n",
    "button_sand.on_click(clicked_sand)\n",
    "\n",
    "button_prod = widgets.Button(description = 'Production', tooltip='Production')   \n",
    "button_prod.on_click(clicked_prod)\n",
    "\n",
    "out = widgets.Output()\n",
    "buttons = widgets.HBox([button_sand, button_prod])\n",
    "outdisplay = widgets.VBox([out])\n",
    "display(buttons, outdisplay)\n",
    "\n"
   ]
  }
 ],
 "metadata": {
  "kernelspec": {
   "display_name": "Python 3.10.4 ('.venv': venv)",
   "language": "python",
   "name": "python3"
  },
  "language_info": {
   "codemirror_mode": {
    "name": "ipython",
    "version": 3
   },
   "file_extension": ".py",
   "mimetype": "text/x-python",
   "name": "python",
   "nbconvert_exporter": "python",
   "pygments_lexer": "ipython3",
   "version": "3.10.4"
  },
  "orig_nbformat": 4,
  "vscode": {
   "interpreter": {
    "hash": "96068a84c9b1418082a6e46595c47d9024852b6087bf5f55cc49a693ece0c56c"
   }
  }
 },
 "nbformat": 4,
 "nbformat_minor": 2
}
