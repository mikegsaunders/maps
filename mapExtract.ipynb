{
 "cells": [
  {
   "cell_type": "markdown",
   "metadata": {},
   "source": [
    "Click the play button next to the code snippet below to load all tools we'll need. Scroll down, and you'll be asked whether you want to use the Sandbox environment (for testing) or the Production environment (using 'live' data from Alma).\n",
    "\n",
    "You'll then be asked for your list of MMSIDs - this should be a text file (.txt), with an MMSID on each line. If you copy a list of MMSIDs from excel, paste it into notepad and save it somewhere, this will be exactly what you need."
   ]
  },
  {
   "cell_type": "code",
   "execution_count": null,
   "metadata": {},
   "outputs": [],
   "source": [
    "import os\n",
    "import requests\n",
    "import time\n",
    "import pandas as pd\n",
    "from bs4 import BeautifulSoup\n",
    "from IPython.display import display, FileLink\n",
    "import ipywidgets as widgets\n",
    "\n",
    "def clicked_sand(arg):\n",
    "    global apiKey\n",
    "    apiKey = os.environ['API_KEY_SAND']\n",
    "    global apiType\n",
    "    apiType = 'Sandbox'\n",
    "    with out:\n",
    "        print('\\rUsing Sandbox data   ', end='')\n",
    "\n",
    "def clicked_prod(arg):\n",
    "    global apiKey\n",
    "    apiKey = os.environ['API_KEY_PROD']\n",
    "    global apiType\n",
    "    apiType = 'Production'\n",
    "    with out:\n",
    "        print('\\rUsing Production data', end='')\n",
    "\n",
    "print('Would you like to use the Sandbox or Production environment?')\n",
    "button_sand = widgets.Button(description = 'Sandbox', tooltip='Sandbox')   \n",
    "button_sand.on_click(clicked_sand)\n",
    "\n",
    "button_prod = widgets.Button(description = 'Production', tooltip='Production')   \n",
    "button_prod.on_click(clicked_prod)\n",
    "\n",
    "out = widgets.Output()\n",
    "buttons = widgets.HBox([button_sand, button_prod])\n",
    "outdisplay = widgets.VBox([out])\n",
    "uploader = widgets.FileUpload(description ='Upload file', accept='.txt', multiple=False)\n",
    "display(buttons, outdisplay)\n",
    "# print('Upload your MMSID txt file here - this should be a text file (.txt), with an MMSID on each line')\n",
    "# display(uploader)\n",
    "\n",
    "\n",
    "widgetInput = widgets.Textarea(value='Hello World textarea', placeholder='Type something', description='described', disabled=False)\n",
    "display(widgetInput)"
   ]
  },
  {
   "cell_type": "markdown",
   "metadata": {},
   "source": [
    "Run the next code snippet, and then paste your list of MMSIDs into the box that appears. They should automatically format from a vertical list to a single line."
   ]
  },
  {
   "cell_type": "code",
   "execution_count": null,
   "metadata": {},
   "outputs": [],
   "source": [
    "MMSIDs = input('paste your list of MMSIDs here')\n",
    "IDlist = MMSIDs.split()"
   ]
  },
  {
   "cell_type": "markdown",
   "metadata": {},
   "source": [
    "Finally, run the code snippet below. You should get a running total of the completed files, and at the end you'll see a dataframe of the output, and a button to copy it all (for pasting into excel or similar)"
   ]
  },
  {
   "cell_type": "code",
   "execution_count": null,
   "metadata": {},
   "outputs": [],
   "source": [
    "start = time.time()\n",
    "bCount = len(IDlist)\n",
    "hCount = 1\n",
    "\n",
    "for bibID in IDlist:\n",
    "    url = f'https://api-eu.hosted.exlibrisgroup.com/almaws/v1/bibs/{bibID}?view=full&expand=None&' \\\n",
    "          f'apikey={apiKey}'\n",
    "    r = requests.get(url)\n",
    "    soup = BeautifulSoup(r.text, 'xml')\n",
    "    vols = soup.find(tag='300').find(code='a')\n",
    "    fname = f'output_{str(start)[-4:]}_{apiType}.txt'\n",
    "    with open(fname, 'a', encoding='utf-8') as f:\n",
    "        f.write(f'{bibID}\\t{vols.text}\\n')\n",
    "    print('\\r', '[Records saved:', hCount, '\\\\', bCount, ']', end='')\n",
    "    hCount = hCount + 1\n",
    "\n",
    "end = time.time()\n",
    "timeTaken = round(((end - start)/60))\n",
    "print(f'\\nTime taken: {timeTaken} minutes')\n",
    "\n",
    "df = pd.read_csv(fname, names=['MMSID', '300a'], sep='\\t', header=None)\n",
    "localFile = FileLink(fname, result_html_prefix='CSV file: ')\n",
    "display(localFile)\n",
    "display(df)\n"
   ]
  }
 ],
 "metadata": {
  "kernelspec": {
   "display_name": "Python 3.10.4 ('.venv': venv)",
   "language": "python",
   "name": "python3"
  },
  "language_info": {
   "codemirror_mode": {
    "name": "ipython",
    "version": 3
   },
   "file_extension": ".py",
   "mimetype": "text/x-python",
   "name": "python",
   "nbconvert_exporter": "python",
   "pygments_lexer": "ipython3",
   "version": "3.10.4"
  },
  "orig_nbformat": 4,
  "vscode": {
   "interpreter": {
    "hash": "96068a84c9b1418082a6e46595c47d9024852b6087bf5f55cc49a693ece0c56c"
   }
  }
 },
 "nbformat": 4,
 "nbformat_minor": 2
}
