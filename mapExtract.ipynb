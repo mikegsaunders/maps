{
 "cells": [
  {
   "cell_type": "markdown",
   "metadata": {},
   "source": [
    "Click the play button in the cell below to load all tools we'll need. You'll be asked whether you want to use the Sandbox environment (for testing) or the Production environment (using 'live' data from Alma).\n",
    "\n",
    "You'll then be asked for your list of MMSIDs - this should be a text file (.txt), with an MMSID on each line. If you copy a list of MMSIDs from excel, open notepad, and paste, this will give you exactly what you need."
   ]
  },
  {
   "cell_type": "code",
   "execution_count": 4,
   "metadata": {},
   "outputs": [
    {
     "name": "stdout",
     "output_type": "stream",
     "text": [
      "Would you like to use the Sandbox or Production environment?\n"
     ]
    },
    {
     "data": {
      "application/vnd.jupyter.widget-view+json": {
       "model_id": "d9e1fe8896a7449db6803593b6fe3eda",
       "version_major": 2,
       "version_minor": 0
      },
      "text/plain": [
       "HBox(children=(Button(description='Sandbox', style=ButtonStyle(), tooltip='Sandbox'), Button(description='Prod…"
      ]
     },
     "metadata": {},
     "output_type": "display_data"
    },
    {
     "data": {
      "application/vnd.jupyter.widget-view+json": {
       "model_id": "3e99c336705f4049ab93ebee8f30e0e9",
       "version_major": 2,
       "version_minor": 0
      },
      "text/plain": [
       "VBox(children=(Output(),))"
      ]
     },
     "metadata": {},
     "output_type": "display_data"
    },
    {
     "name": "stdout",
     "output_type": "stream",
     "text": [
      "Upload your MMSID txt file here - this should be a text file (.txt), with an MMSID on each line\n"
     ]
    },
    {
     "data": {
      "application/vnd.jupyter.widget-view+json": {
       "model_id": "9dec459e3f3147308640e63bee46298b",
       "version_major": 2,
       "version_minor": 0
      },
      "text/plain": [
       "FileUpload(value=(), accept='.txt', description='Upload')"
      ]
     },
     "metadata": {},
     "output_type": "display_data"
    }
   ],
   "source": [
    "import os\n",
    "from IPython.display import display\n",
    "import ipywidgets as widgets\n",
    "\n",
    "def clicked_sand(arg):\n",
    "    global apiKey\n",
    "    apiKey = os.environ['API_KEY_SAND']\n",
    "    with out:\n",
    "        print('\\rUsing Sandbox data   ', end='')\n",
    "\n",
    "def clicked_prod(arg):\n",
    "    global apiKey\n",
    "    apiKey = os.environ['API_KEY_PROD']\n",
    "    with out:\n",
    "        print('\\rUsing Production data', end='')\n",
    "\n",
    "print('Would you like to use the Sandbox or Production environment?')\n",
    "button_sand = widgets.Button(description = 'Sandbox', tooltip='Sandbox')   \n",
    "button_sand.on_click(clicked_sand)\n",
    "\n",
    "button_prod = widgets.Button(description = 'Production', tooltip='Production')   \n",
    "button_prod.on_click(clicked_prod)\n",
    "\n",
    "out = widgets.Output()\n",
    "buttons = widgets.HBox([button_sand, button_prod])\n",
    "outdisplay = widgets.VBox([out])\n",
    "uploader = widgets.FileUpload(accept='.txt', multiple=False)\n",
    "display(buttons, outdisplay)\n",
    "print('Upload your MMSID txt file here - this should be a text file (.txt), with an MMSID on each line')\n",
    "display(uploader)\n",
    "\n",
    "\n"
   ]
  },
  {
   "cell_type": "code",
   "execution_count": 5,
   "metadata": {},
   "outputs": [
    {
     "name": "stdout",
     "output_type": "stream",
     "text": [
      "l8xxb55ee13fda44401c8a7e13497e929adb\n"
     ]
    }
   ],
   "source": [
    "print(apiKey)"
   ]
  }
 ],
 "metadata": {
  "kernelspec": {
   "display_name": "Python 3.10.4 ('.venv': venv)",
   "language": "python",
   "name": "python3"
  },
  "language_info": {
   "codemirror_mode": {
    "name": "ipython",
    "version": 3
   },
   "file_extension": ".py",
   "mimetype": "text/x-python",
   "name": "python",
   "nbconvert_exporter": "python",
   "pygments_lexer": "ipython3",
   "version": "3.10.4"
  },
  "orig_nbformat": 4,
  "vscode": {
   "interpreter": {
    "hash": "96068a84c9b1418082a6e46595c47d9024852b6087bf5f55cc49a693ece0c56c"
   }
  }
 },
 "nbformat": 4,
 "nbformat_minor": 2
}
